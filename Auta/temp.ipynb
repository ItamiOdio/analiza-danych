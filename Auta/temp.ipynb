{
 "cells": [
  {
   "cell_type": "code",
   "execution_count": 37,
   "metadata": {},
   "outputs": [],
   "source": [
    "import numpy as np\n",
    "import pandas as pd\n",
    "from plotnine import *\n",
    "\n",
    "from sklearn.cluster import KMeans\n",
    "from sklearn.mixture import GaussianMixture\n",
    "from sklearn.cluster import DBSCAN\n",
    "\n",
    "from sklearn.metrics import silhouette_score\n",
    "\n",
    "from sklearn.datasets import make_classification\n",
    "\n",
    "from sklearn.preprocessing import StandardScaler \n"
   ]
  },
  {
   "cell_type": "code",
   "execution_count": 38,
   "metadata": {},
   "outputs": [],
   "source": [
    "df = pd.read_csv('auta.csv', index_col= 0)"
   ]
  },
  {
   "cell_type": "code",
   "execution_count": 39,
   "metadata": {},
   "outputs": [
    {
     "name": "stdout",
     "output_type": "stream",
     "text": [
      "(53, 5)\n",
      "             Cena  Przebieg  Pojemnosc   KM  diesle\n",
      "Audi A3   20900.0  164450.0     1896.0  110    66.9\n",
      "Audi A4   25311.4  182000.0     1900.0  130    75.7\n",
      "Audi A6   31500.0  185000.0     2496.0  170    82.5\n",
      "Audi A8  109000.0  129380.0     4134.0  300    68.1\n",
      "Audi Q7  179000.0   72000.0     3000.0  240    89.1\n"
     ]
    }
   ],
   "source": [
    "print(df.shape)\n",
    "print(df.head())\n",
    "z = StandardScaler()\n",
    "auta = df.copy()\n",
    "auta[auta.columns] = z.fit_transform(df[df.columns])\n",
    "auta_cols = auta.columns"
   ]
  },
  {
   "cell_type": "code",
   "execution_count": 40,
   "metadata": {},
   "outputs": [
    {
     "data": {
      "text/html": [
       "<div>\n",
       "<style scoped>\n",
       "    .dataframe tbody tr th:only-of-type {\n",
       "        vertical-align: middle;\n",
       "    }\n",
       "\n",
       "    .dataframe tbody tr th {\n",
       "        vertical-align: top;\n",
       "    }\n",
       "\n",
       "    .dataframe thead th {\n",
       "        text-align: right;\n",
       "    }\n",
       "</style>\n",
       "<table border=\"1\" class=\"dataframe\">\n",
       "  <thead>\n",
       "    <tr style=\"text-align: right;\">\n",
       "      <th></th>\n",
       "      <th>Cena</th>\n",
       "      <th>Przebieg</th>\n",
       "      <th>Pojemnosc</th>\n",
       "      <th>KM</th>\n",
       "      <th>diesle</th>\n",
       "    </tr>\n",
       "  </thead>\n",
       "  <tbody>\n",
       "    <tr>\n",
       "      <th>Audi A3</th>\n",
       "      <td>-0.198580</td>\n",
       "      <td>0.484563</td>\n",
       "      <td>-0.017676</td>\n",
       "      <td>-0.248784</td>\n",
       "      <td>0.040064</td>\n",
       "    </tr>\n",
       "    <tr>\n",
       "      <th>Audi A4</th>\n",
       "      <td>-0.055174</td>\n",
       "      <td>0.944320</td>\n",
       "      <td>-0.009643</td>\n",
       "      <td>0.202004</td>\n",
       "      <td>0.458097</td>\n",
       "    </tr>\n",
       "    <tr>\n",
       "      <th>Audi A6</th>\n",
       "      <td>0.146007</td>\n",
       "      <td>1.022911</td>\n",
       "      <td>1.187258</td>\n",
       "      <td>1.103579</td>\n",
       "      <td>0.781122</td>\n",
       "    </tr>\n",
       "    <tr>\n",
       "      <th>Audi A8</th>\n",
       "      <td>2.665391</td>\n",
       "      <td>-0.434164</td>\n",
       "      <td>4.476727</td>\n",
       "      <td>4.033697</td>\n",
       "      <td>0.097069</td>\n",
       "    </tr>\n",
       "    <tr>\n",
       "      <th>Audi Q7</th>\n",
       "      <td>4.940965</td>\n",
       "      <td>-1.937346</td>\n",
       "      <td>2.199402</td>\n",
       "      <td>2.681335</td>\n",
       "      <td>1.094646</td>\n",
       "    </tr>\n",
       "  </tbody>\n",
       "</table>\n",
       "</div>"
      ],
      "text/plain": [
       "             Cena  Przebieg  Pojemnosc        KM    diesle\n",
       "Audi A3 -0.198580  0.484563  -0.017676 -0.248784  0.040064\n",
       "Audi A4 -0.055174  0.944320  -0.009643  0.202004  0.458097\n",
       "Audi A6  0.146007  1.022911   1.187258  1.103579  0.781122\n",
       "Audi A8  2.665391 -0.434164   4.476727  4.033697  0.097069\n",
       "Audi Q7  4.940965 -1.937346   2.199402  2.681335  1.094646"
      ]
     },
     "execution_count": 40,
     "metadata": {},
     "output_type": "execute_result"
    }
   ],
   "source": [
    "auta.head()"
   ]
  },
  {
   "cell_type": "code",
   "execution_count": 41,
   "metadata": {},
   "outputs": [
    {
     "data": {
      "image/png": "[encoded data removed]",
      "text/plain": [
       "<Figure size 640x480 with 1 Axes>"
      ]
     },
     "metadata": {
      "needs_background": "light"
     },
     "output_type": "display_data"
    },
    {
     "data": {
      "text/plain": [
       "<ggplot: (176506920138)>"
      ]
     },
     "execution_count": 41,
     "metadata": {},
     "output_type": "execute_result"
    }
   ],
   "source": [
    "gm = GaussianMixture(n_components=5).fit(auta[auta_cols])\n",
    "\n",
    "auta['klastry_gm'] = gm.predict(auta[auta_cols])\n",
    "sylwetka_gm = round(silhouette_score(auta[auta_cols], gm.predict(auta[auta_cols])),4)\n",
    "\n",
    "(ggplot(auta, aes(x = 'klastry_gm', fill = 'factor(klastry_gm)')) +\n",
    " geom_bar()+\n",
    " annotate('text', x = 0.5, y = 25, label = f'Sylwetka = {sylwetka_gm}')+\n",
    " theme_minimal()+\n",
    " labs(x = 'Klastry', y = 'Liczebność',fill = 'klastry'))"
   ]
  },
  {
   "cell_type": "code",
   "execution_count": null,
   "metadata": {},
   "outputs": [],
   "source": []
  },
  {
   "cell_type": "code",
   "execution_count": null,
   "metadata": {},
   "outputs": [],
   "source": []
  }
 ],
 "metadata": {
  "kernelspec": {
   "display_name": "Python 3",
   "language": "python",
   "name": "python3"
  },
  "language_info": {
   "codemirror_mode": {
    "name": "ipython",
    "version": 3
   },
   "file_extension": ".py",
   "mimetype": "text/x-python",
   "name": "python",
   "nbconvert_exporter": "python",
   "pygments_lexer": "ipython3",
   "version": "3.8.3"
  }
 },
 "nbformat": 4,
 "nbformat_minor": 4
}
